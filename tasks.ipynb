{
 "cells": [
  {
   "cell_type": "markdown",
   "metadata": {},
   "source": [
    "# Task 1: Binary Representations\n",
    "\n",
    "#### In this task the goal is to implement and demonstrate functions that perform bit-level manipulations on 32-bit unsigned integers. These functions include rotating bits left and right, as well as computing the SHA-256 style functions for bit selection and majority voting."
   ]
  },
  {
   "cell_type": "markdown",
   "metadata": {},
   "source": [
    "##### Step 1: I'm gonna use the rotl(x, n=1) function to rotate a 32-bit integer left by n positions. Mask x with 0xffffffff to keep it 32-bit, use left and right shifts for rotation, and mask the result to maintain the 32-bit representation.\n",
    "\n",
    "##### Step 2: Implement rotr(x, n=1) to rotate x right by n positions. Ensure x is 32-bit, apply right and left shifts, and mask the output to maintain the 32-bit limit.\n",
    "\n",
    "##### Step 3: Implement ch(x, y, z), which selects bits from y where x has 1s and from z where x has 0s. Use bitwise AND, NOT, and XOR while keeping inputs 32-bit.\n",
    "\n",
    "##### Step 4: Implement maj(x, y, z), which returns 1 for each bit where at least two of x, y, and z are 1. Use bitwise AND and XOR while ensuring 32-bit masking.\n",
    "\n",
    "##### Step 5: Test all functions in a Jupyter Notebook by defining them in separate cells and printing results in hexadecimal and binary to verify correctness."
   ]
  },
  {
   "cell_type": "markdown",
   "metadata": {},
   "source": [
    "### Imports"
   ]
  },
  {
   "cell_type": "code",
   "execution_count": 10,
   "metadata": {},
   "outputs": [
    {
     "name": "stdout",
     "output_type": "stream",
     "text": [
      "=== Bit Rotation Functions ===\n",
      "Original x: 0x12345678\n",
      "rotl(x, 4): 0x23456781\n",
      "rotr(x, 4): 0x81234567\n",
      "\n",
      "=== Choice and Majority Functions ===\n",
      "x = 1010\n",
      "y = 1100\n",
      "z = 0110\n",
      "ch(x, y, z)  = 1100\n",
      "maj(x, y, z) = 1110\n"
     ]
    }
   ],
   "source": [
    "# Define functions for 32-bit bit manipulations\n",
    "\n",
    "def rotl(x, n=1):\n",
    "    \"\"\"Rotate a 32-bit unsigned integer x to the left by n bits.\"\"\"\n",
    "    x &= 0xFFFFFFFF  # Ensure x remains within 32-bit\n",
    "    n %= 32  # Keep rotation within bounds\n",
    "    return ((x << n) | (x >> (32 - n))) & 0xFFFFFFFF\n",
    "\n",
    "def rotr(x, n=1):\n",
    "    \"\"\"Rotate a 32-bit unsigned integer x to the right by n bits.\"\"\"\n",
    "    x &= 0xFFFFFFFF\n",
    "    n %= 32\n",
    "    return ((x >> n) | (x << (32 - n))) & 0xFFFFFFFF\n",
    "\n",
    "def ch(x, y, z):\n",
    "    \"\"\"Choice function: Choose bits from y if x equals 1 or from z otherwise\"\"\"\n",
    "    x &= 0xFFFFFFFF\n",
    "    y &= 0xFFFFFFFF\n",
    "    z &= 0xFFFFFFFF\n",
    "    return (x & y) ^ (~x & z)\n",
    "\n",
    "def maj(x, y, z):\n",
    "    \"\"\"Majority function: Output 1 for each bit where at least two of x, y, z have 1s.\"\"\"\n",
    "    x &= 0xFFFFFFFF\n",
    "    y &= 0xFFFFFFFF\n",
    "    z &= 0xFFFFFFFF\n",
    "    return (x & y) ^ (x & z) ^ (y & z)\n",
    "\n",
    "# Test the functions with example values\n",
    "print(\"=== Bit Rotation Functions ===\")\n",
    "\n",
    "x = 0x12345678  # Example 32-bit number\n",
    "print(f\"Original x: 0x{x:08X}\")\n",
    "\n",
    "print(f\"rotl(x, 4): 0x{rotl(x, 4):08X}\")\n",
    "print(f\"rotr(x, 4): 0x{rotr(x, 4):08X}\")\n",
    "\n",
    "print(\"\\n=== Choice and Majority Functions ===\")\n",
    "\n",
    "# Test values for ch and maj functions\n",
    "x_val, y_val, z_val = 0b1010, 0b1100, 0b0110\n",
    "\n",
    "print(f\"x = {x_val:04b}\")\n",
    "print(f\"y = {y_val:04b}\")\n",
    "print(f\"z = {z_val:04b}\")\n",
    "\n",
    "print(f\"ch(x, y, z)  = {ch(x_val, y_val, z_val):04b}\")\n",
    "print(f\"maj(x, y, z) = {maj(x_val, y_val, z_val):04b}\")"
   ]
  },
  {
   "cell_type": "markdown",
   "metadata": {},
   "source": [
    "## References"
   ]
  },
  {
   "cell_type": "markdown",
   "metadata": {},
   "source": [
    "https://stackoverflow.com/questions/27176317/bitwise-rotate-right?utm_source=chatgpt.com\n",
    "\n",
    "https://www.geeksforgeeks.org/python-bitwise-operators/?utm_source=chatgpt.com\n",
    "\n",
    "https://realpython.com/python-bitwise-operators/?utm_source=chatgpt.com"
   ]
  }
 ],
 "metadata": {
  "kernelspec": {
   "display_name": "Python 3",
   "language": "python",
   "name": "python3"
  },
  "language_info": {
   "codemirror_mode": {
    "name": "ipython",
    "version": 3
   },
   "file_extension": ".py",
   "mimetype": "text/x-python",
   "name": "python",
   "nbconvert_exporter": "python",
   "pygments_lexer": "ipython3",
   "version": "3.12.1"
  }
 },
 "nbformat": 4,
 "nbformat_minor": 2
}
