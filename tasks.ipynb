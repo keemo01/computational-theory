{
 "cells": [
  {
   "cell_type": "markdown",
   "metadata": {},
   "source": [
    "# Task 1: Binary Representations\n",
    "\n",
    "This task involves implementing bit-level operations on 32-bit unsigned integers, including bit rotations and SHA-256 style functions for bit selection and majority voting.\n",
    "\n",
    "Steps:\n",
    "- Step 1: To rotate a 32-bit integer left while adhering to 32-bit limitations, use rotl(x, n=1).\n",
    "- Step 2: To rotate a 32-bit integer to the right, use rotr(x, n=1).\n",
    "- Step 3: Execute ch(x, y, z), choosing bits from z where x is 0 and from y where x is 1.\n",
    "- Step 4: When x, y, and z all have at least two 1s, execute maj(x, y, z), returning 1.\n",
    "- Step 5: Test all functions in a Jupyter Notebook, displaying results in hexadecimal and binary."
   ]
  },
  {
   "cell_type": "markdown",
   "metadata": {},
   "source": [
    "### Imports"
   ]
  },
  {
   "cell_type": "code",
   "execution_count": 38,
   "metadata": {},
   "outputs": [],
   "source": [
    "# Define functions for 32-bit bit manipulations\n",
    "\n",
    "def rotl(x, n=1):\n",
    "    \"\"\"Rotate a 32-bit unsigned integer x to the left by n bits.\"\"\"\n",
    "    x &= 0xFFFFFFFF  # Ensure x remains within 32-bit\n",
    "    n %= 32  # Keep rotation within bounds\n",
    "    return ((x << n) | (x >> (32 - n))) & 0xFFFFFFFF\n",
    "\n"
   ]
  },
  {
   "cell_type": "code",
   "execution_count": 39,
   "metadata": {},
   "outputs": [],
   "source": [
    "def maj(x, y, z):\n",
    "    \"\"\"For any bit where at least two of x, y, and z have 1s, the majority function outputs 1.\"\"\"\n",
    "    x &= 0xFFFFFFFF\n",
    "    y &= 0xFFFFFFFF\n",
    "    z &= 0xFFFFFFFF\n",
    "    return (x & y) ^ (x & z) ^ (y & z)"
   ]
  },
  {
   "cell_type": "code",
   "execution_count": 40,
   "metadata": {},
   "outputs": [],
   "source": [
    "def rotr(x, n=1):\n",
    "    \"\"\"Rotate a 32-bit unsigned integer x to the right by n bits.\"\"\"\n",
    "    x &= 0xFFFFFFFF\n",
    "    n %= 32\n",
    "    return ((x >> n) | (x << (32 - n))) & 0xFFFFFFFF\n"
   ]
  },
  {
   "cell_type": "code",
   "execution_count": 41,
   "metadata": {},
   "outputs": [],
   "source": [
    "def ch(x, y, z):\n",
    "    \"\"\"Choice function: Choose bits from y if x equals 1 or from z otherwise\"\"\"\n",
    "    x &= 0xFFFFFFFF\n",
    "    y &= 0xFFFFFFFF\n",
    "    z &= 0xFFFFFFFF\n",
    "    return (x & y) ^ (~x & z)"
   ]
  },
  {
   "cell_type": "code",
   "execution_count": 42,
   "metadata": {},
   "outputs": [
    {
     "name": "stdout",
     "output_type": "stream",
     "text": [
      "=== Bit Rotation Functions ===\n",
      "Original x: 0x12345678\n",
      "rotl(x, 4): 0x23456781\n",
      "rotr(x, 4): 0x81234567\n",
      "\n",
      "=== Choice and Majority Functions ===\n",
      "x = 1010\n",
      "y = 1100\n",
      "z = 0110\n",
      "ch(x, y, z)  = 1100\n",
      "maj(x, y, z) = 1110\n"
     ]
    }
   ],
   "source": [
    "# Prints the results of the functions\n",
    "print(\"=== Bit Rotation Functions ===\")\n",
    "\n",
    "x = 0x12345678  # Test value for rotation functions\n",
    "print(f\"Original x: 0x{x:08X}\")\n",
    "\n",
    "print(f\"rotl(x, 4): 0x{rotl(x, 4):08X}\")\n",
    "print(f\"rotr(x, 4): 0x{rotr(x, 4):08X}\")\n",
    "\n",
    "print(\"\\n=== Choice and Majority Functions ===\")\n",
    "\n",
    "# Test values for choice and majority functions\n",
    "x_val, y_val, z_val = 0b1010, 0b1100, 0b0110\n",
    "\n",
    "print(f\"x = {x_val:04b}\")\n",
    "print(f\"y = {y_val:04b}\")\n",
    "print(f\"z = {z_val:04b}\")\n",
    "\n",
    "print(f\"ch(x, y, z)  = {ch(x_val, y_val, z_val):04b}\")\n",
    "print(f\"maj(x, y, z) = {maj(x_val, y_val, z_val):04b}\")"
   ]
  },
  {
   "cell_type": "markdown",
   "metadata": {},
   "source": [
    "## References"
   ]
  },
  {
   "cell_type": "markdown",
   "metadata": {},
   "source": [
    "https://stackoverflow.com/questions/27176317/bitwise-rotate-right?utm_source=chatgpt.com\n",
    "\n",
    "https://www.geeksforgeeks.org/python-bitwise-operators/?utm_source=chatgpt.com\n",
    "\n",
    "https://realpython.com/python-bitwise-operators/?utm_source=chatgpt.com"
   ]
  },
  {
   "cell_type": "markdown",
   "metadata": {},
   "source": [
    "# Task 2: Hash Functions\n",
    "\n",
    "In this task, we implement a hash function similar to the one found in *The C Programming Language* by Kernighan and Ritchie.\n",
    "\n",
    "The function works as follows:\n",
    "- It initializes a hash value to 0.\n",
    "- For each character in the string, it updates the hash value using the formula:\n",
    "  \n",
    "\n",
    "\n",
    "- Finally, the function returns the hash modulo 101.\n",
    "\n",
    "**Why 31 and 101?**\n",
    "- **31** is an odd prime number, which helps in evenly distributing hash values. It can also be optimized (e.g., using bit shifts).\n",
    "- **101** is a prime number, which helps reduce the probability of collisions.\n"
   ]
  },
  {
   "cell_type": "code",
   "execution_count": 43,
   "metadata": {},
   "outputs": [],
   "source": [
    "def hash_func(s: str) -> int:\n",
    "    \"\"\"\n",
    "    Convert the C hash function into Python:\n",
    "    hash = ord(c) + 31 * hash for each character c, and take modulo 101.\n",
    "    \"\"\"\n",
    "    hash_val = 0\n",
    "    for char in s:\n",
    "        hash_val = ord(char) + 31 * hash_val\n",
    "    return hash_val % 101\n"
   ]
  },
  {
   "cell_type": "code",
   "execution_count": 44,
   "metadata": {},
   "outputs": [
    {
     "name": "stdout",
     "output_type": "stream",
     "text": [
      "Hash for 'Name is Akeem nice to meet you' is: 47\n"
     ]
    }
   ],
   "source": [
    "# Test the hash function\n",
    "test_string = \"Name is Akeem nice to meet you\"\n",
    "result = hash_func(test_string)\n",
    "print(f\"Hash for '{test_string}' is: {result}\")\n"
   ]
  },
  {
   "cell_type": "markdown",
   "metadata": {},
   "source": [
    "## Explanation of the Constants 31 and 101\n",
    "\n",
    "- **31 (Multiplier):**\n",
    "  - Being an odd prime helps in achieving a better distribution of hash values.\n",
    "  - The multiplication by 31 can be efficiently computed by compilers (for example, as a shift and subtraction).\n",
    "\n",
    "- **101 (Modulus):**\n",
    "  - The modulus operation limits the hash value to a fixed range (0 to 100).\n",
    "  - Using a prime number as the modulus helps reduce the chances of collisions, leading to a more uniform spread of hash values.\n"
   ]
  },
  {
   "cell_type": "markdown",
   "metadata": {},
   "source": [
    "# References\n",
    "\n",
    "Hashing Basics and Hash Functions: - https://cs.gmu.edu/~kauffman/cs310/07-hash-codes.pdf?utm\n",
    "\n",
    "Hash Functions and Hash Tables - https://linux.ime.usp.br/~brelf/mac0499/monografia.pdf?utm\n",
    "\n",
    "Kernighan and Ritchie's Hash Function: - https://colorcomputerarchive.com/repo/Documents/Books/The%20C%20Programming%20Language%20%28Kernighan%20Ritchie%29.pdf?utm"
   ]
  }
 ],
 "metadata": {
  "kernelspec": {
   "display_name": "Python 3",
   "language": "python",
   "name": "python3"
  },
  "language_info": {
   "codemirror_mode": {
    "name": "ipython",
    "version": 3
   },
   "file_extension": ".py",
   "mimetype": "text/x-python",
   "name": "python",
   "nbconvert_exporter": "python",
   "pygments_lexer": "ipython3",
   "version": "3.12.1"
  }
 },
 "nbformat": 4,
 "nbformat_minor": 2
}
