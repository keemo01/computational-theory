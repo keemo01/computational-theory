{
 "cells": [
  {
   "cell_type": "markdown",
   "metadata": {},
   "source": [
    "# Task 1: Binary Representations\n",
    "\n",
    "This task involves implementing bit-level operations on 32-bit unsigned integers, including bit rotations and SHA-256 style functions for bit selection and majority voting.\n",
    "\n",
    "Steps:\n",
    "- Step 1: To rotate a 32-bit integer left while adhering to 32-bit limitations, use rotl(x, n=1).\n",
    "- Step 2: To rotate a 32-bit integer to the right, use rotr(x, n=1).\n",
    "- Step 3: Execute ch(x, y, z), choosing bits from z where x is 0 and from y where x is 1.\n",
    "- Step 4: When x, y, and z all have at least two 1s, execute maj(x, y, z), returning 1.\n",
    "- Step 5: Test all functions in a Jupyter Notebook, displaying results in hexadecimal and binary."
   ]
  },
  {
   "cell_type": "markdown",
   "metadata": {},
   "source": [
    "### Imports"
   ]
  },
  {
   "cell_type": "code",
   "execution_count": 9,
   "metadata": {},
   "outputs": [],
   "source": [
    "\n",
    "import numpy as np\n",
    "import scipy\n",
    "import matplotlib.pyplot as plt\n",
    "import seaborn as sns\n",
    "import pandas as pd\n",
    "import statsmodels.api as sm\n",
    "import sklearn\n"
   ]
  },
  {
   "cell_type": "code",
   "execution_count": 1,
   "metadata": {},
   "outputs": [],
   "source": [
    "# Define functions for 32-bit bit manipulations\n",
    "\n",
    "def rotl(x, n=1):\n",
    "    \"\"\"Rotate a 32-bit unsigned integer x to the left by n bits.\"\"\"\n",
    "    x &= 0xFFFFFFFF  # Ensure x remains within 32-bit\n",
    "    n %= 32  # Keep rotation within bounds\n",
    "    return ((x << n) | (x >> (32 - n))) & 0xFFFFFFFF\n",
    "\n"
   ]
  },
  {
   "cell_type": "code",
   "execution_count": 2,
   "metadata": {},
   "outputs": [],
   "source": [
    "def maj(x, y, z):\n",
    "    \"\"\"For any bit where at least two of x, y, and z have 1s, the majority function outputs 1.\"\"\"\n",
    "    x &= 0xFFFFFFFF\n",
    "    y &= 0xFFFFFFFF\n",
    "    z &= 0xFFFFFFFF\n",
    "    return (x & y) ^ (x & z) ^ (y & z)"
   ]
  },
  {
   "cell_type": "code",
   "execution_count": 3,
   "metadata": {},
   "outputs": [],
   "source": [
    "def rotr(x, n=1):\n",
    "    \"\"\"Rotate a 32-bit unsigned integer x to the right by n bits.\"\"\"\n",
    "    x &= 0xFFFFFFFF\n",
    "    n %= 32\n",
    "    return ((x >> n) | (x << (32 - n))) & 0xFFFFFFFF\n"
   ]
  },
  {
   "cell_type": "code",
   "execution_count": 4,
   "metadata": {},
   "outputs": [],
   "source": [
    "def ch(x, y, z):\n",
    "    \"\"\"Choice function: Choose bits from y if x equals 1 or from z otherwise\"\"\"\n",
    "    x &= 0xFFFFFFFF\n",
    "    y &= 0xFFFFFFFF\n",
    "    z &= 0xFFFFFFFF\n",
    "    return (x & y) ^ (~x & z)"
   ]
  },
  {
   "cell_type": "code",
   "execution_count": 5,
   "metadata": {},
   "outputs": [
    {
     "name": "stdout",
     "output_type": "stream",
     "text": [
      "=== Bit Rotation Functions ===\n",
      "Original x: 0x12345678\n",
      "rotl(x, 4): 0x23456781\n",
      "rotr(x, 4): 0x81234567\n",
      "\n",
      "=== Choice and Majority Functions ===\n",
      "x = 1010\n",
      "y = 1100\n",
      "z = 0110\n",
      "ch(x, y, z)  = 1100\n",
      "maj(x, y, z) = 1110\n"
     ]
    }
   ],
   "source": [
    "# Prints the results of the functions\n",
    "print(\"=== Bit Rotation Functions ===\")\n",
    "\n",
    "x = 0x12345678  # Test value for rotation functions\n",
    "print(f\"Original x: 0x{x:08X}\")\n",
    "\n",
    "print(f\"rotl(x, 4): 0x{rotl(x, 4):08X}\")\n",
    "print(f\"rotr(x, 4): 0x{rotr(x, 4):08X}\")\n",
    "\n",
    "print(\"\\n=== Choice and Majority Functions ===\")\n",
    "\n",
    "# Test values for choice and majority functions\n",
    "x_val, y_val, z_val = 0b1010, 0b1100, 0b0110\n",
    "\n",
    "print(f\"x = {x_val:04b}\")\n",
    "print(f\"y = {y_val:04b}\")\n",
    "print(f\"z = {z_val:04b}\")\n",
    "\n",
    "print(f\"ch(x, y, z)  = {ch(x_val, y_val, z_val):04b}\")\n",
    "print(f\"maj(x, y, z) = {maj(x_val, y_val, z_val):04b}\")"
   ]
  },
  {
   "cell_type": "markdown",
   "metadata": {},
   "source": [
    "### Explanation\n",
    "\n",
    "##### I have completed the following crucial bitwise operations before the end of Task 1: \n",
    "- Rotations (rotl, rotr) to shift bits in a circular pattern, choice (ch) to select bits based on a control value \n",
    "- Majority (maj) to determine the most common bit among three values. Data mixing and security in cryptographic algorithms like SHA-256 depend on these actions. \n",
    "\n",
    "I maintained 32-bit consistency to ensure system reliability. By learning these functions theyve helped build a strong base for cryptography and advanced computing techniques."
   ]
  },
  {
   "cell_type": "markdown",
   "metadata": {},
   "source": [
    "## References"
   ]
  },
  {
   "cell_type": "markdown",
   "metadata": {},
   "source": [
    "https://stackoverflow.com/questions/27176317/bitwise-rotate-right?utm_source=chatgpt.com\n",
    "\n",
    "https://www.geeksforgeeks.org/python-bitwise-operators/?utm_source=chatgpt.com\n",
    "\n",
    "https://realpython.com/python-bitwise-operators/?utm_source=chatgpt.com"
   ]
  },
  {
   "cell_type": "markdown",
   "metadata": {},
   "source": [
    "# Task 2: Hash Functions\n",
    "\n",
    "In this task, we implement a hash function similar to the one found in *The C Programming Language* by Kernighan and Ritchie.\n",
    "\n",
    "The function works as follows:\n",
    "- It initializes a hash value to 0.\n",
    "- For each character in the string, it updates the hash value using the formula:\n",
    "  \n",
    "\n",
    "\n",
    "## Steps\n",
    "- Convert the C hash function to Python: Rewrite the C function using Python syntax, handling string iteration with a for loop.\n",
    "- Initialize the hash value: Set hash_val to 0, as it’s the starting point for calculating the hash.\n",
    "- Iterate over the string: Loop through each character in the string, updating the hash value with the formula hash_val = ord(char) + 31 * hash_val.\n",
    "- Apply modulo 101: After the loop, return hash_val % 101 to limit the range of the hash value.\n",
    "- Explain the constants: Use 31 (odd prime) to distribute values evenly and 101 (prime) to reduce collisions in hash values."
   ]
  },
  {
   "cell_type": "code",
   "execution_count": 6,
   "metadata": {},
   "outputs": [],
   "source": [
    "def hash_func(s: str) -> int:\n",
    "    \"\"\"\n",
    "    Convert the C hash function into Python:\n",
    "    hash = ord(c) + 31 * hash for each character c, and take modulo 101.\n",
    "    \"\"\"\n",
    "    hash_val = 0\n",
    "    for char in s: # Loop through each character\n",
    "        hash_val = ord(char) + 31 * hash_val\n",
    "    return hash_val % 101 # Return the hash value to make sure its in range\n"
   ]
  },
  {
   "cell_type": "code",
   "execution_count": 7,
   "metadata": {},
   "outputs": [
    {
     "name": "stdout",
     "output_type": "stream",
     "text": [
      "Hash for 'Name is Akeem nice to meet you' is: 47\n",
      "Hash for 'To you 2000 years from now' is: 51\n"
     ]
    }
   ],
   "source": [
    "# Test the hash function\n",
    "test_string = \"Name is Akeem nice to meet you\"\n",
    "test_string2 = \"To you 2000 years from now\"\n",
    "\n",
    "# Get the hash values for both of the tests\n",
    "result = hash_func(test_string)\n",
    "result2 = hash_func(test_string2)\n",
    "\n",
    "# Then print the values for both tests\n",
    "print(f\"Hash for '{test_string}' is: {result}\")\n",
    "print(f\"Hash for '{test_string2}' is: {result2}\")\n"
   ]
  },
  {
   "cell_type": "markdown",
   "metadata": {},
   "source": [
    "## Explanation of the Constants 31 and 101\n",
    "\n",
    "- **31 (Multiplier):**\n",
    "  - Being an odd prime helps in achieving a better distribution of hash values.\n",
    "  - The multiplication by 31 can be efficiently computed by compilers (for example, as a shift and subtraction).\n",
    "\n",
    "- **101 (Modulus):**\n",
    "  - The modulus operation limits the hash value to a fixed range (0 to 100).\n",
    "  - Using a prime number as the modulus helps reduce the chances of collisions, leading to a more uniform spread of hash values.\n"
   ]
  },
  {
   "cell_type": "markdown",
   "metadata": {},
   "source": [
    "# References\n",
    "\n",
    "Hashing Basics and Hash Functions: - https://cs.gmu.edu/~kauffman/cs310/07-hash-codes.pdf?utm\n",
    "\n",
    "Hash Functions and Hash Tables - https://linux.ime.usp.br/~brelf/mac0499/monografia.pdf?utm\n",
    "\n",
    "Kernighan and Ritchie's Hash Function: - https://colorcomputerarchive.com/repo/Documents/Books/The%20C%20Programming%20Language%20%28Kernighan%20Ritchie%29.pdf?utm"
   ]
  },
  {
   "cell_type": "markdown",
   "metadata": {},
   "source": [
    "# Task 3: SHA-256 Padding\n",
    "\n",
    "#### The task requires for  SHA 256 padding to make sure the length of the message is  multiple of 512 bits. \n",
    "\n",
    "#### This padding contains:\n",
    "\n",
    "- A single \\(1\\) bit.\n",
    "- Enough \\(0\\) bits to make the length congruent to \\(448 \\mod 512\\).\n",
    "- The original message length in bits, stored as a 64-bit big-endian integer.\n",
    "\n",
    "\n",
    "#### Steps Calculate SHA-256 Padding;\n",
    "\n",
    "- 1 Determine the file's length in bits by reading it.\n",
    "- 2 Add a single bit, which is 0x80 in hex.\n",
    "- 3 Add enough zeros to make the length equal to 448 mod 512.\n",
    "- 4 Add a 64-bit integer representing the original message length.\n",
    "- 5 In hex format, print the padding."
   ]
  },
  {
   "cell_type": "code",
   "execution_count": 8,
   "metadata": {},
   "outputs": [
    {
     "name": "stdout",
     "output_type": "stream",
     "text": [
      "80 00 00 00 00 00 00 00 00 00 00 00 00 00 00 00 00 00 00 00 00 00 00 00 00 00 00 00 00 00 00 00 00 00 00 00 00 00 00 00 00 00 00 00 00 00 00 00 00 00 00 00 00 00 00 00 00 00 00 00 18\n"
     ]
    }
   ],
   "source": [
    "def calculate_sha256_padding(file_path):\n",
    "    \"\"\"Calculate the SHA256 padding that would be used on a file\"\"\"\n",
    "    # Read the file\n",
    "    with open(file_path, 'rb') as f:\n",
    "        content = f.read()\n",
    "    \n",
    "    # Calculate the original length in bits\n",
    "    original_length_bits = len(content) * 8\n",
    "    \n",
    "    # Add a single '1' bit (byte value 0x80)\n",
    "    padding = bytearray([0x80])\n",
    "    \n",
    "    # Add '0' bits until the length 512 equals 448\n",
    "    current_bits = original_length_bits + 8  # original + the 1 bit (0x80)\n",
    "    remaining_bits = (448 - (current_bits % 512)) % 512\n",
    "    remaining_bytes = remaining_bits // 8\n",
    "    padding.extend([0] * remaining_bytes)\n",
    "    \n",
    "    # Include the original length as a 64-bit big-endian integer\n",
    "    length_bytes = original_length_bits.to_bytes(8, byteorder='big')\n",
    "    padding.extend(length_bytes)\n",
    "    \n",
    "    # Print the padding in hexadecimal format\n",
    "    padding_hex = ' '.join(f'{b:02X}' for b in padding)\n",
    "    print(padding_hex)  # Only prints the hex padding\n",
    "    \n",
    "    # Return nothing, or specifically return hex padding if necessary.\n",
    "    return None\n",
    "\n",
    "# Call the function with the file path\n",
    "file_path = 'hash.txt'\n",
    "calculate_sha256_padding(file_path)\n"
   ]
  },
  {
   "cell_type": "markdown",
   "metadata": {},
   "source": [
    "##### The `calculate_sha256_padding` function calculates the padding required for a file to comply with the SHA-256 specification. It initially reads the file and determines its length in bits. It then inserts a single '1' bit (0x80), followed by the required number of '0' bits to ensure that the message length, including padding, is equal to 448 modulo 512. Finally, the original length (in bits) is stored as a 64-bit big-endian integer. The resulting padding is displayed in hexadecimal and returned as a 'bytes' object for use with the SHA-256 algorithm."
   ]
  },
  {
   "cell_type": "markdown",
   "metadata": {},
   "source": [
    "## References\n",
    "\n"
   ]
  },
  {
   "cell_type": "markdown",
   "metadata": {},
   "source": [
    "What is SHA-256 Padding - https://stackoverflow.com/questions/24183109/what-is-sha-256-padding\n",
    "\n",
    "SHA-256 and SHA3-256 Hashing in Java - https://www.baeldung.com/sha-256-hashing-java\n",
    "\n",
    "How SHA-256 works - https://medium.com/%40bajrang1081siyag/how-sha-256-works-4951088ab9f8\n",
    "\n",
    "FIPS PUB 180-2: Secure Hash Standard (SHS) - https://csrc.nist.gov/files/pubs/fips/180-2/final/docs/fips180-2.pdf"
   ]
  },
  {
   "cell_type": "markdown",
   "metadata": {},
   "source": [
    "# Task 4"
   ]
  }
 ],
 "metadata": {
  "kernelspec": {
   "display_name": "Python 3",
   "language": "python",
   "name": "python3"
  },
  "language_info": {
   "codemirror_mode": {
    "name": "ipython",
    "version": 3
   },
   "file_extension": ".py",
   "mimetype": "text/x-python",
   "name": "python",
   "nbconvert_exporter": "python",
   "pygments_lexer": "ipython3",
   "version": "3.12.1"
  }
 },
 "nbformat": 4,
 "nbformat_minor": 2
}
