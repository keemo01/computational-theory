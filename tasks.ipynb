{
 "cells": [
  {
   "cell_type": "markdown",
   "metadata": {},
   "source": [
    "# Task 1: Binary Representations\n",
    "\n",
    "This task involves implementing bit-level operations on 32-bit unsigned integers, including bit rotations and SHA-256 style functions for bit selection and majority voting.\n",
    "\n",
    "Steps:\n",
    "- Step 1: To rotate a 32-bit integer left while adhering to 32-bit limitations, use rotl(x, n=1).\n",
    "- Step 2: To rotate a 32-bit integer to the right, use rotr(x, n=1).\n",
    "- Step 3: Execute ch(x, y, z), choosing bits from z where x is 0 and from y where x is 1.\n",
    "- Step 4: When x, y, and z all have at least two 1s, execute maj(x, y, z), returning 1.\n",
    "- Step 5: Test all functions in a Jupyter Notebook, displaying results in hexadecimal and binary."
   ]
  },
  {
   "cell_type": "markdown",
   "metadata": {},
   "source": [
    "### Imports"
   ]
  },
  {
   "cell_type": "code",
   "execution_count": 112,
   "metadata": {},
   "outputs": [],
   "source": [
    "\n",
    "import numpy as np\n",
    "import scipy\n",
    "import os\n",
    "import requests\n",
    "import hashlib\n",
    "import matplotlib.pyplot as plt\n",
    "import seaborn as sns\n",
    "import pandas as pd\n",
    "import statsmodels.api as sm\n",
    "import sklearn\n",
    "import math\n",
    "\n"
   ]
  },
  {
   "cell_type": "code",
   "execution_count": 113,
   "metadata": {},
   "outputs": [],
   "source": [
    "# Define functions for 32-bit bit manipulations\n",
    "\n",
    "def rotl(x, n=1):\n",
    "    \"\"\"Rotate a 32-bit unsigned integer x to the left by n bits.\"\"\"\n",
    "    x &= 0xFFFFFFFF  # Ensure x remains within 32-bit\n",
    "    n %= 32  # Keep rotation within bounds\n",
    "    return ((x << n) | (x >> (32 - n))) & 0xFFFFFFFF\n",
    "\n"
   ]
  },
  {
   "cell_type": "code",
   "execution_count": 114,
   "metadata": {},
   "outputs": [],
   "source": [
    "def maj(x, y, z):\n",
    "    \"\"\"For any bit where at least two of x, y, and z have 1s, the majority function outputs 1.\"\"\"\n",
    "    x &= 0xFFFFFFFF\n",
    "    y &= 0xFFFFFFFF\n",
    "    z &= 0xFFFFFFFF\n",
    "    return (x & y) ^ (x & z) ^ (y & z)"
   ]
  },
  {
   "cell_type": "code",
   "execution_count": 115,
   "metadata": {},
   "outputs": [],
   "source": [
    "def rotr(x, n=1):\n",
    "    \"\"\"Rotate a 32-bit unsigned integer x to the right by n bits.\"\"\"\n",
    "    x &= 0xFFFFFFFF\n",
    "    n %= 32\n",
    "    return ((x >> n) | (x << (32 - n))) & 0xFFFFFFFF\n"
   ]
  },
  {
   "cell_type": "code",
   "execution_count": 116,
   "metadata": {},
   "outputs": [],
   "source": [
    "def ch(x, y, z):\n",
    "    \"\"\"Choice function: Choose bits from y if x equals 1 or from z otherwise\"\"\"\n",
    "    x &= 0xFFFFFFFF\n",
    "    y &= 0xFFFFFFFF\n",
    "    z &= 0xFFFFFFFF\n",
    "    return (x & y) ^ (~x & z)"
   ]
  },
  {
   "cell_type": "code",
   "execution_count": 117,
   "metadata": {},
   "outputs": [
    {
     "name": "stdout",
     "output_type": "stream",
     "text": [
      "=== Bit Rotation Functions ===\n",
      "Original x: 0x12345678\n",
      "rotl(x, 4): 0x23456781\n",
      "rotr(x, 4): 0x81234567\n",
      "\n",
      "=== Choice and Majority Functions ===\n",
      "x = 1010\n",
      "y = 1100\n",
      "z = 0110\n",
      "ch(x, y, z)  = 1100\n",
      "maj(x, y, z) = 1110\n"
     ]
    }
   ],
   "source": [
    "# Prints the results of the functions\n",
    "print(\"=== Bit Rotation Functions ===\")\n",
    "\n",
    "x = 0x12345678  # Test value for rotation functions\n",
    "print(f\"Original x: 0x{x:08X}\")\n",
    "\n",
    "print(f\"rotl(x, 4): 0x{rotl(x, 4):08X}\")\n",
    "print(f\"rotr(x, 4): 0x{rotr(x, 4):08X}\")\n",
    "\n",
    "print(\"\\n=== Choice and Majority Functions ===\")\n",
    "\n",
    "# Test values for choice and majority functions\n",
    "x_val, y_val, z_val = 0b1010, 0b1100, 0b0110\n",
    "\n",
    "print(f\"x = {x_val:04b}\")\n",
    "print(f\"y = {y_val:04b}\")\n",
    "print(f\"z = {z_val:04b}\")\n",
    "\n",
    "print(f\"ch(x, y, z)  = {ch(x_val, y_val, z_val):04b}\")\n",
    "print(f\"maj(x, y, z) = {maj(x_val, y_val, z_val):04b}\")"
   ]
  },
  {
   "cell_type": "markdown",
   "metadata": {},
   "source": [
    "### Explanation\n",
    "\n",
    "##### I have completed the following crucial bitwise operations before the end of Task 1: \n",
    "- Rotations (rotl, rotr) to shift bits in a circular pattern, choice (ch) to select bits based on a control value \n",
    "- Majority (maj) to determine the most common bit among three values. Data mixing and security in cryptographic algorithms like SHA-256 depend on these actions. \n",
    "\n",
    "I maintained 32-bit consistency to ensure system reliability. By learning these functions theyve helped build a strong base for cryptography and advanced computing techniques."
   ]
  },
  {
   "cell_type": "markdown",
   "metadata": {},
   "source": [
    "## References"
   ]
  },
  {
   "cell_type": "markdown",
   "metadata": {},
   "source": [
    "https://stackoverflow.com/questions/27176317/bitwise-rotate-right?utm_source=chatgpt.com\n",
    "\n",
    "https://www.geeksforgeeks.org/python-bitwise-operators/?utm_source=chatgpt.com\n",
    "\n",
    "https://realpython.com/python-bitwise-operators/?utm_source=chatgpt.com"
   ]
  },
  {
   "cell_type": "markdown",
   "metadata": {},
   "source": [
    "# Task 2: Hash Functions\n",
    "\n",
    "In this task, we implement a hash function similar to the one found in *The C Programming Language* by Kernighan and Ritchie.\n",
    "\n",
    "The function works as follows:\n",
    "- It initializes a hash value to 0.\n",
    "- For each character in the string, it updates the hash value using the formula:\n",
    "  \n",
    "\n",
    "\n",
    "## Steps\n",
    "- Convert the C hash function to Python: Rewrite the C function using Python syntax, handling string iteration with a for loop.\n",
    "- Initialize the hash value: Set hash_val to 0, as it’s the starting point for calculating the hash.\n",
    "- Iterate over the string: Loop through each character in the string, updating the hash value with the formula hash_val = ord(char) + 31 * hash_val.\n",
    "- Apply modulo 101: After the loop, return hash_val % 101 to limit the range of the hash value.\n",
    "- Explain the constants: Use 31 (odd prime) to distribute values evenly and 101 (prime) to reduce collisions in hash values."
   ]
  },
  {
   "cell_type": "code",
   "execution_count": 118,
   "metadata": {},
   "outputs": [],
   "source": [
    "def hash_func(s: str) -> int:\n",
    "    \"\"\"\n",
    "    Convert the C hash function into Python:\n",
    "    hash = ord(c) + 31 * hash for each character c, and take modulo 101.\n",
    "    \"\"\"\n",
    "    hash_val = 0\n",
    "    for char in s: # Loop through each character\n",
    "        hash_val = ord(char) + 31 * hash_val\n",
    "    return hash_val % 101 # Return the hash value to make sure its in range\n"
   ]
  },
  {
   "cell_type": "code",
   "execution_count": 119,
   "metadata": {},
   "outputs": [
    {
     "name": "stdout",
     "output_type": "stream",
     "text": [
      "Hash for 'Name is Akeem nice to meet you' is: 47\n",
      "Hash for 'To you 2000 years from now' is: 51\n"
     ]
    }
   ],
   "source": [
    "# Test the hash function\n",
    "test_string = \"Name is Akeem nice to meet you\"\n",
    "test_string2 = \"To you 2000 years from now\"\n",
    "\n",
    "# Get the hash values for both of the tests\n",
    "result = hash_func(test_string)\n",
    "result2 = hash_func(test_string2)\n",
    "\n",
    "# Then print the values for both tests\n",
    "print(f\"Hash for '{test_string}' is: {result}\")\n",
    "print(f\"Hash for '{test_string2}' is: {result2}\")\n"
   ]
  },
  {
   "cell_type": "markdown",
   "metadata": {},
   "source": [
    "## Explanation of the Constants 31 and 101\n",
    "\n",
    "- **31 (Multiplier):**\n",
    "  - Being an odd prime helps in achieving a better distribution of hash values.\n",
    "  - The multiplication by 31 can be efficiently computed by compilers (for example, as a shift and subtraction).\n",
    "\n",
    "- **101 (Modulus):**\n",
    "  - The modulus operation limits the hash value to a fixed range (0 to 100).\n",
    "  - Using a prime number as the modulus helps reduce the chances of collisions, leading to a more uniform spread of hash values.\n"
   ]
  },
  {
   "cell_type": "markdown",
   "metadata": {},
   "source": [
    "# References\n",
    "\n",
    "Hashing Basics and Hash Functions: - https://cs.gmu.edu/~kauffman/cs310/07-hash-codes.pdf?utm\n",
    "\n",
    "Hash Functions and Hash Tables - https://linux.ime.usp.br/~brelf/mac0499/monografia.pdf?utm\n",
    "\n",
    "Kernighan and Ritchie's Hash Function: - https://colorcomputerarchive.com/repo/Documents/Books/The%20C%20Programming%20Language%20%28Kernighan%20Ritchie%29.pdf?utm"
   ]
  },
  {
   "cell_type": "markdown",
   "metadata": {},
   "source": [
    "# Task 3: SHA-256 Padding\n",
    "\n",
    "#### The task requires for  SHA 256 padding to make sure the length of the message is  multiple of 512 bits. \n",
    "\n",
    "#### This padding contains:\n",
    "\n",
    "- A single \\(1\\) bit.\n",
    "- Enough \\(0\\) bits to make the length congruent to \\(448 \\mod 512\\).\n",
    "- The original message length in bits, stored as a 64-bit big-endian integer.\n",
    "\n",
    "\n",
    "#### Steps Calculate SHA-256 Padding;\n",
    "\n",
    "- 1 Determine the file's length in bits by reading it.\n",
    "- 2 Add a single bit, which is 0x80 in hex.\n",
    "- 3 Add enough zeros to make the length equal to 448 mod 512.\n",
    "- 4 Add a 64-bit integer representing the original message length.\n",
    "- 5 In hex format, print the padding."
   ]
  },
  {
   "cell_type": "code",
   "execution_count": 120,
   "metadata": {},
   "outputs": [
    {
     "name": "stdout",
     "output_type": "stream",
     "text": [
      "80 00 00 00 00 00 00 00 00 00 00 00 00 00 00 00 00 00 00 00 00 00 00 00 00 00 00 00 00 00 00 00 00 00 00 00 00 00 00 00 00 00 00 00 00 00 00 00 00 00 00 00 00 00 00 00 00 00 00 00 18\n"
     ]
    }
   ],
   "source": [
    "def calculate_sha256_padding(file_path):\n",
    "    \"\"\"Calculate the SHA256 padding that would be used on a file\"\"\"\n",
    "    # Read the file\n",
    "    with open(file_path, 'rb') as f:\n",
    "        content = f.read()\n",
    "    \n",
    "    # Calculate the original length in bits\n",
    "    original_length_bits = len(content) * 8\n",
    "    \n",
    "    # Add a single '1' bit (byte value 0x80)\n",
    "    padding = bytearray([0x80])\n",
    "    \n",
    "    # Add '0' bits until the length 512 equals 448\n",
    "    current_bits = original_length_bits + 8  # original + the 1 bit (0x80)\n",
    "    remaining_bits = (448 - (current_bits % 512)) % 512\n",
    "    remaining_bytes = remaining_bits // 8\n",
    "    padding.extend([0] * remaining_bytes)\n",
    "    \n",
    "    # Include the original length as a 64-bit big-endian integer\n",
    "    length_bytes = original_length_bits.to_bytes(8, byteorder='big')\n",
    "    padding.extend(length_bytes)\n",
    "    \n",
    "    # Print the padding in hexadecimal format\n",
    "    padding_hex = ' '.join(f'{b:02X}' for b in padding)\n",
    "    print(padding_hex)  # Only prints the hex padding\n",
    "    \n",
    "    # Return nothing, or specifically return hex padding if necessary.\n",
    "    return None\n",
    "\n",
    "# Call the function with the file path\n",
    "file_path = 'hash.txt'\n",
    "calculate_sha256_padding(file_path)\n"
   ]
  },
  {
   "cell_type": "markdown",
   "metadata": {},
   "source": [
    "##### The `calculate_sha256_padding` function calculates the padding required for a file to comply with the SHA-256 specification. It initially reads the file and determines its length in bits. It then inserts a single '1' bit (0x80), followed by the required number of '0' bits to ensure that the message length, including padding, is equal to 448 modulo 512. Finally, the original length (in bits) is stored as a 64-bit big-endian integer. The resulting padding is displayed in hexadecimal and returned as a 'bytes' object for use with the SHA-256 algorithm."
   ]
  },
  {
   "cell_type": "markdown",
   "metadata": {},
   "source": [
    "## References\n",
    "\n"
   ]
  },
  {
   "cell_type": "markdown",
   "metadata": {},
   "source": [
    "What is SHA-256 Padding - https://stackoverflow.com/questions/24183109/what-is-sha-256-padding\n",
    "\n",
    "SHA-256 and SHA3-256 Hashing in Java - https://www.baeldung.com/sha-256-hashing-java\n",
    "\n",
    "How SHA-256 works - https://medium.com/%40bajrang1081siyag/how-sha-256-works-4951088ab9f8\n",
    "\n",
    "FIPS PUB 180-2: Secure Hash Standard (SHS) - https://csrc.nist.gov/files/pubs/fips/180-2/final/docs/fips180-2.pdf"
   ]
  },
  {
   "cell_type": "markdown",
   "metadata": {},
   "source": [
    "# Task 4: Prime Numbers\n",
    "\n",
    "#### Two different algorithms are used in this work to calculate the first 100 prime numbers:\n",
    "\n",
    "#### Trial Division Algorithm:\n",
    " \n",
    "- 1 Initialize an empty list primes and start with num = 2\n",
    "- 2 For each number, check if it’s divisible by any number in the primes list\n",
    "- 3 If it’s not divisible by any primes, add it to the primes list\n",
    "- 4 Repeat until 100 primes are found\n",
    "\n",
    "#### Sieve of Eratosthenes Algorithm:\n",
    "\n",
    "- 1 Set an upper limit (1000) and create a list sieve with True values (assumes all numbers are prime)\n",
    "- 2 Mark 0 and 1 as non-prime\n",
    "- 3 For each prime starting from 2, mark its multiples as non-prime\n",
    "- 4 Collect all unmarked numbers as primes and return the first 100 primes"
   ]
  },
  {
   "cell_type": "code",
   "execution_count": 121,
   "metadata": {},
   "outputs": [
    {
     "name": "stdout",
     "output_type": "stream",
     "text": [
      "Trial Division Primes: [2, 3, 5, 7, 11, 13, 17, 19, 23, 29, 31, 37, 41, 43, 47, 53, 59, 61, 67, 71, 73, 79, 83, 89, 97, 101, 103, 107, 109, 113, 127, 131, 137, 139, 149, 151, 157, 163, 167, 173, 179, 181, 191, 193, 197, 199, 211, 223, 227, 229, 233, 239, 241, 251, 257, 263, 269, 271, 277, 281, 283, 293, 307, 311, 313, 317, 331, 337, 347, 349, 353, 359, 367, 373, 379, 383, 389, 397, 401, 409, 419, 421, 431, 433, 439, 443, 449, 457, 461, 463, 467, 479, 487, 491, 499, 503, 509, 521, 523, 541]\n",
      "Sieve of Eratosthenes Primes: [2, 3, 5, 7, 11, 13, 17, 19, 23, 29, 31, 37, 41, 43, 47, 53, 59, 61, 67, 71, 73, 79, 83, 89, 97, 101, 103, 107, 109, 113, 127, 131, 137, 139, 149, 151, 157, 163, 167, 173, 179, 181, 191, 193, 197, 199, 211, 223, 227, 229, 233, 239, 241, 251, 257, 263, 269, 271, 277, 281, 283, 293, 307, 311, 313, 317, 331, 337, 347, 349, 353, 359, 367, 373, 379, 383, 389, 397, 401, 409, 419, 421, 431, 433, 439, 443, 449, 457, 461, 463, 467, 479, 487, 491, 499, 503, 509, 521, 523, 541]\n"
     ]
    }
   ],
   "source": [
    "def trial_division_primes(n):\n",
    "    \"\"\"Finds the first n prime numbers using trial division.\"\"\"\n",
    "    primes = []\n",
    "    num = 2\n",
    "    while len(primes) < n:\n",
    "        is_prime = all(num % p != 0 for p in primes)\n",
    "        if is_prime:\n",
    "            primes.append(num)\n",
    "        num += 1\n",
    "    return primes\n",
    "\n",
    "def sieve_of_eratosthenes(n):\n",
    "    \"\"\"Finds the first n prime numbers using the Sieve of Eratosthenes.\"\"\"\n",
    "    limit = 1000  # Estimate an upper bound for 100 primes\n",
    "    sieve = [True] * (limit + 1)\n",
    "    sieve[0] = sieve[1] = False  # 0 and 1 are not primes\n",
    "    \n",
    "    for start in range(2, int(math.sqrt(limit)) + 1):\n",
    "        if sieve[start]:\n",
    "            for multiple in range(start * start, limit + 1, start):\n",
    "                sieve[multiple] = False\n",
    "    \n",
    "    primes = [num for num, is_prime in enumerate(sieve) if is_prime]\n",
    "    return primes[:n]\n",
    "\n",
    "\n",
    "# Compute first 100 primes using trial division\n",
    "primes_trial_div = trial_division_primes(100)\n",
    "primes_sieve = sieve_of_eratosthenes(100)\n",
    "\n",
    "# Output results\n",
    "print(\"Trial Division Primes:\", primes_trial_div)\n",
    "print(\"Sieve of Eratosthenes Primes:\", primes_sieve)"
   ]
  },
  {
   "cell_type": "markdown",
   "metadata": {},
   "source": [
    "##### Used two ways to compute the first 100 primes. `Trial Division` checks each number for divisibility by known primes and added to the list if none of them divide it. ` Eratosthenes' Sieve ` classifies multiples of each prime as non-primes before collecting the remaining primes. Both strategies are used to compare the outcomes."
   ]
  },
  {
   "cell_type": "markdown",
   "metadata": {},
   "source": [
    "## References"
   ]
  },
  {
   "cell_type": "markdown",
   "metadata": {},
   "source": [
    "# Task 5: Roots\n",
    "\n",
    "#### Calculate the first 32 bits of the fractional part of the square roots of the first 100 primes\n",
    "\n",
    "#### Steps\n",
    "\n",
    "### Extract Fractional Part and Scale:\n",
    "\n",
    "- 1 Calculate the square root of a number\n",
    "- 2 To extract the fractional part, subtract the integer part\n",
    "- 3 Multiply the fractional part by 2^32 to shift the binary representation\n",
    "- 4 Format the result as a 32-bit binary string\n",
    "\n",
    "### Apply to the First 100 Primes:\n",
    "\n",
    "- 1 Use the list of the first 100 prime numbers\n",
    "- 2 For each prime, calculate its 32-bit fractional representation"
   ]
  },
  {
   "cell_type": "code",
   "execution_count": 122,
   "metadata": {},
   "outputs": [],
   "source": [
    "# Function to check if a number is prime \n",
    "# This function determines divisibility by examining all numbers from 2 to the square root of n.\n",
    "def is_prime(n):\n",
    "    if n < 2:\n",
    "        return False\n",
    "    for i in range(2, int(math.sqrt(n)) + 1):\n",
    "        if n % i == 0:\n",
    "            return False\n",
    "    return True\n"
   ]
  },
  {
   "cell_type": "code",
   "execution_count": 123,
   "metadata": {},
   "outputs": [
    {
     "name": "stdout",
     "output_type": "stream",
     "text": [
      "First 100 primes: [2, 3, 5, 7, 11, 13, 17, 19, 23, 29, 31, 37, 41, 43, 47, 53, 59, 61, 67, 71, 73, 79, 83, 89, 97, 101, 103, 107, 109, 113, 127, 131, 137, 139, 149, 151, 157, 163, 167, 173, 179, 181, 191, 193, 197, 199, 211, 223, 227, 229, 233, 239, 241, 251, 257, 263, 269, 271, 277, 281, 283, 293, 307, 311, 313, 317, 331, 337, 347, 349, 353, 359, 367, 373, 379, 383, 389, 397, 401, 409, 419, 421, 431, 433, 439, 443, 449, 457, 461, 463, 467, 479, 487, 491, 499, 503, 509, 521, 523, 541]\n"
     ]
    }
   ],
   "source": [
    "# Set up an empty list to contain the first 100 prime numbers.\n",
    "first_100_primes = []\n",
    "\n",
    "# Starting at 2, gather prime numbers until there's 100 primes\n",
    "num = 2\n",
    "while len(first_100_primes) < 100:\n",
    "    if is_prime(num):\n",
    "        first_100_primes.append(num)\n",
    "    num += 1\n",
    "\n",
    "# Print the list of primes\n",
    "print(\"First 100 primes:\", first_100_primes)\n"
   ]
  },
  {
   "cell_type": "code",
   "execution_count": 124,
   "metadata": {},
   "outputs": [],
   "source": [
    "def get_fractional_bits(n):\n",
    "    # Calculate the square root and then extract the fractional component\n",
    "    sqrt_n = math.sqrt(n)\n",
    "    frac_part = sqrt_n - int(sqrt_n)\n",
    "    # Multiply by 2^32 and format into a 32-bit binary string\n",
    "    bits_int = int(frac_part * (2**32))\n",
    "    bits_str = format(bits_int, '032b')\n",
    "    return bits_str\n",
    "\n",
    "# Get the fractional bits for the first 100 primes using a dictionary comprehension\n",
    "fractional_bits_results = {prime: get_fractional_bits(prime) for prime in first_100_primes}\n"
   ]
  },
  {
   "cell_type": "code",
   "execution_count": 125,
   "metadata": {},
   "outputs": [
    {
     "name": "stdout",
     "output_type": "stream",
     "text": [
      "Prime Number | 32-bit Fractional Part of sqrt(prime)\n",
      "-------------------------------------------------------\n",
      "           2 | 01101010000010011110011001100111\n",
      "           3 | 10111011011001111010111010000101\n",
      "           5 | 00111100011011101111001101110010\n",
      "           7 | 10100101010011111111010100111010\n",
      "          11 | 01010001000011100101001001111111\n",
      "          13 | 10011011000001010110100010001100\n",
      "          17 | 00011111100000111101100110101011\n",
      "          19 | 01011011111000001100110100011001\n",
      "          23 | 11001011101110111001110101011101\n",
      "          29 | 01100010100110100010100100101010\n",
      "          31 | 10010001010110010000000101011010\n",
      "          37 | 00010101001011111110110011011000\n",
      "          41 | 01100111001100110010011001100111\n",
      "          43 | 10001110101101000100101010000111\n",
      "          47 | 11011011000011000010111000001101\n",
      "          53 | 01000111101101010100100000011101\n",
      "          59 | 10101110010111111001000101010110\n",
      "          61 | 11001111011011001000010111010011\n",
      "          67 | 00101111011100110100011101111101\n",
      "          71 | 01101101000110000010011011001010\n",
      "          73 | 10001011010000111101010001010111\n",
      "          79 | 11100011011000001011010110010110\n",
      "          83 | 00011100010001010110000000000010\n",
      "          89 | 01101111000110010110001100110001\n",
      "          97 | 11011001010011101011111010110001\n",
      "         101 | 00001100110001001010011000010001\n",
      "         103 | 00100110000111011100000111110010\n",
      "         107 | 01011000000101011010011110111110\n",
      "         109 | 01110000101101111110110101100111\n",
      "         113 | 10100001010100010011110001101001\n",
      "         127 | 01000100111110010011011000110101\n",
      "         131 | 01110010000011011100110111111101\n",
      "         137 | 10110100011001110011011010011110\n",
      "         139 | 11001010001100100000101101110101\n",
      "         149 | 00110100111000001101010000101110\n",
      "         151 | 01001001110001111101100110111101\n",
      "         157 | 10000111101010111011100111110010\n",
      "         163 | 11000100011000111010001011111100\n",
      "         167 | 11101100001111111100001111110011\n",
      "         173 | 00100111001001110111111101101101\n",
      "         179 | 01100001000010111110101111110010\n",
      "         181 | 01110100001000001011010010011110\n",
      "         191 | 11010001111111011000101000110011\n",
      "         193 | 11100100011101110011010110010100\n",
      "         197 | 00001001001000011001011111110110\n",
      "         199 | 00011011010100110000110010010101\n",
      "         211 | 10000110100111010110001101000010\n",
      "         223 | 11101110111001010010111001001111\n",
      "         227 | 00010001000001110110011010001001\n",
      "         229 | 00100001111110111010001101111011\n",
      "         233 | 01000011101010111001111110110110\n",
      "         239 | 01110101101010011111100100011101\n",
      "         241 | 10000110001100000101000000011001\n",
      "         251 | 11010111110011011000000101110011\n",
      "         257 | 00000111111111100000000011111111\n",
      "         263 | 00110111100111110101000100111111\n",
      "         269 | 01100110101101100101000110101000\n",
      "         271 | 01110110010010101011100001000010\n",
      "         277 | 10100100101100000110101111100001\n",
      "         281 | 11000011010101111000110000010101\n",
      "         283 | 11010010100101100010101001010011\n",
      "         293 | 00011110000000111001111101000000\n",
      "         307 | 10000101011110110111101111101110\n",
      "         311 | 10100010100110111111001011011110\n",
      "         313 | 10110001000110100011001011101000\n",
      "         317 | 11001101111100110100111010000000\n",
      "         331 | 00110001100000110000010000100110\n",
      "         337 | 01011011100010010000100100101011\n",
      "         347 | 10100000110000000110101000010011\n",
      "         349 | 10101110011110011000010000101111\n",
      "         353 | 11001001110011011010011010001001\n",
      "         359 | 11110010100000011111001000111001\n",
      "         367 | 00101000010000010010010110010010\n",
      "         373 | 01010000001011100110010011011011\n",
      "         379 | 01110111110010011100001000010001\n",
      "         383 | 10010010000001001100110110011101\n",
      "         389 | 10111001000110111111011001100011\n",
      "         397 | 11101100110000111000110010011101\n",
      "         401 | 00000110011001010110000010010101\n",
      "         409 | 00111001010001111001001110000001\n",
      "         419 | 01111000001100000111011010010111\n",
      "         421 | 10000100101011100100101101111100\n",
      "         431 | 11000010101100101011011101010101\n",
      "         433 | 11001111000000111101001000001110\n",
      "         439 | 11110011110010111011000100010111\n",
      "         443 | 00001100001011010011101101001011\n",
      "         449 | 00110000100010101111000101100001\n",
      "         457 | 01100000101001111010100110011000\n",
      "         461 | 01111000100011011001100000010010\n",
      "         463 | 10000100011101101001101101000010\n",
      "         467 | 10011100001101001111000001100010\n",
      "         479 | 11100010110101010110010011000100\n",
      "         487 | 00010001011011010111010111111101\n",
      "         491 | 00101000100101001100000100000111\n",
      "         499 | 01010110100110110101100011000110\n",
      "         503 | 01101101011110110011100100111001\n",
      "         509 | 10001111100111111000110110111011\n",
      "         521 | 11010011010011110000001111001101\n",
      "         523 | 11011110100000110111001011101111\n",
      "         541 | 01000010011010000111101000111001\n"
     ]
    }
   ],
   "source": [
    "# Print the results in a formatted table\n",
    "print(\"Prime Number | 32-bit Fractional Part of sqrt(prime)\")\n",
    "print(\"-\" * 55)\n",
    "for prime in first_100_primes:\n",
    "    print(f\"{prime:12} | {fractional_bits_results[prime]}\")"
   ]
  },
  {
   "cell_type": "markdown",
   "metadata": {},
   "source": [
    "## Explanation\n",
    "\n",
    "##### The function get_fractional_bits(n) computes the square root of a given number and extracts its fractional part by subtracting the integer component\n",
    "\n",
    "##### This fraction is then scaled by 2^32 (effectively shifting it left by 32 bits) and converted into an integer, which is formatted as a 32-bit binary string with leading zeros\n",
    "\n",
    "##### Next, a dictionary comprehension applies this function to each prime number in the list of the first 100 primes, creating key-value pairs where each prime is paired with its 32-bit fractional square root representation. Finally, the results are printed in a neat table that aligns each prime number with its computed 32-bit binary string, making the output clear and easy to interpret\n",
    "\n",
    "\n",
    "# References\n",
    "Prime Number - https://en.wikipedia.org/wiki/Prime_number\n",
    "\n",
    "Binary Number - https://en.wikipedia.org/wiki/Binary_number\n",
    "\n",
    "Square Root - https://en.wikipedia.org/wiki/Square_root"
   ]
  },
  {
   "cell_type": "markdown",
   "metadata": {},
   "source": [
    "## Task 6: Proof of Work\n",
    "\n",
    "**Objective:**  \n",
    "Find the English word(s) whose SHA-256 hash digest starts with the most zero bits\n",
    "\n",
    "**Steps:**\n",
    "1. **Load** an accurate English word list\n",
    "2. **Compute** the SHA‑256 digest of each word\n",
    "3. **Count** the number of leading zero bits in each digest  \n",
    "4. **Identify** the word(s) with the maximum count\n",
    "5. **Verify** that the result(s) appear in a recognized English dictionary\n",
    "6. **Report** the findings with proof and references\n"
   ]
  },
  {
   "cell_type": "code",
   "execution_count": 126,
   "metadata": {},
   "outputs": [
    {
     "name": "stdout",
     "output_type": "stream",
     "text": [
      "Downloading wordlist from https://raw.githubusercontent.com/dwyl/english-words/master/words_alpha.txt …\n",
      "Loaded 370,105 unique words\n"
     ]
    }
   ],
   "source": [
    "def load_wordlist():\n",
    "    \"\"\"\n",
    "    Download a public wordlist from GitHub and return it as a list of lowercase words.\n",
    "    The wordlist is a list of English words, one per line.\n",
    "    \"\"\"\n",
    "    # Public domain wordlist\n",
    "    url = 'https://raw.githubusercontent.com/dwyl/english-words/master/words_alpha.txt' \n",
    "    print(f\"Downloading wordlist from {url} …\")\n",
    "    resp = requests.get(url, timeout=10)\n",
    "    resp.raise_for_status()  # Check for HTTP errors\n",
    "\n",
    "    # Split the response text into words\n",
    "    words = [w.strip().lower() for w in resp.text.split() if w.strip()]\n",
    "\n",
    "    # Remove duplicates\n",
    "    words = list(dict.fromkeys(words))\n",
    "\n",
    "    return words\n",
    "\n",
    "# Usage\n",
    "words = load_wordlist()\n",
    "print(f\"Loaded {len(words):,} unique words\")"
   ]
  },
  {
   "cell_type": "code",
   "execution_count": 127,
   "metadata": {},
   "outputs": [
    {
     "name": "stdout",
     "output_type": "stream",
     "text": [
      "SHA256('hello') = 2cf24dba5fb0a30e26e83b2ac5b9e29e1b161e5c1fa7425e73043362938b9824\n",
      "Leading zero bits: 2\n"
     ]
    }
   ],
   "source": [
    "def leading_zero_bits(hex_digest: str) -> int:\n",
    "    \"\"\"\n",
    "    Count how many zero bits appear at the very start of the SHA‑256 digest.\n",
    "    We convert the hex digest to bytes, then scan byte-by-byte.\n",
    "    \"\"\"\n",
    "    digest = bytes.fromhex(hex_digest)\n",
    "    count = 0 # Initialize the count of leading zero bits\n",
    "    # Iterate through each byte in the digest\n",
    "    for b in digest:\n",
    "        if b == 0:\n",
    "            # entire byte is zero ⇒ 8 zero bits\n",
    "            count += 8\n",
    "        else:\n",
    "            # only the high-order zeros in this byte\n",
    "            count += (8 - b.bit_length())\n",
    "            break\n",
    "    return count\n",
    "\n",
    "# Example usage\n",
    "sample = hashlib.sha256(b\"hello\").hexdigest()\n",
    "print(f\"SHA256('hello') = {sample}\")\n",
    "print(\"Leading zero bits:\", leading_zero_bits(sample))\n"
   ]
  },
  {
   "cell_type": "code",
   "execution_count": null,
   "metadata": {},
   "outputs": [
    {
     "name": "stdout",
     "output_type": "stream",
     "text": [
      "Processed 50000/370,105 words…\n",
      "Processed 100000/370,105 words…\n",
      "Processed 150000/370,105 words…\n",
      "Processed 200000/370,105 words…\n",
      "Processed 250000/370,105 words…\n",
      "Processed 300000/370,105 words…\n",
      "Processed 350000/370,105 words…\n",
      "\n",
      "Scanning complete.\n",
      "Maximum leading zero bits found: 18\n",
      "Number of words matching this: 1\n"
     ]
    }
   ],
   "source": [
    "max_zero_bits = -1\n",
    "best_words = []\n",
    "total = len(words)\n",
    "\n",
    "for idx, w in enumerate(words, start=1):\n",
    "    # Calculate the SHA-256 digest of the word\n",
    "    # and convert it to a hexadecimal string\n",
    "    hex_digest = hashlib.sha256(w.encode('utf-8')).hexdigest()\n",
    "    z = leading_zero_bits(hex_digest)\n",
    "    if z > max_zero_bits:\n",
    "        max_zero_bits = z\n",
    "        best_words = [w]\n",
    "    elif z == max_zero_bits: \n",
    "        best_words.append(w)\n",
    "\n",
    "    # Progress every 50k words\n",
    "    if idx % 50000 == 0:\n",
    "        print(f\"Processed {idx}/{total:,} words…\")\n",
    "\n",
    "print(\"\\nScanning complete.\")\n",
    "print(f\"Maximum leading zero bits found: {max_zero_bits}\")\n",
    "print(f\"Number of words matching this: {len(best_words)}\")\n"
   ]
  },
  {
   "cell_type": "code",
   "execution_count": null,
   "metadata": {},
   "outputs": [
    {
     "name": "stdout",
     "output_type": "stream",
     "text": [
      "Words with the maximum leading-zero-bits:\n",
      " - goaltenders\n"
     ]
    }
   ],
   "source": [
    "# Scans the wordlist for leading zero bits\n",
    "print(\"Words with the maximum leading-zero-bits:\")\n",
    "for w in best_words:\n",
    "    print(\" -\", w)"
   ]
  }
 ],
 "metadata": {
  "kernelspec": {
   "display_name": "Python 3",
   "language": "python",
   "name": "python3"
  },
  "language_info": {
   "codemirror_mode": {
    "name": "ipython",
    "version": 3
   },
   "file_extension": ".py",
   "mimetype": "text/x-python",
   "name": "python",
   "nbconvert_exporter": "python",
   "pygments_lexer": "ipython3",
   "version": "3.12.1"
  }
 },
 "nbformat": 4,
 "nbformat_minor": 2
}
